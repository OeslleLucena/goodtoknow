{
 "cells": [
  {
   "cell_type": "markdown",
   "metadata": {},
   "source": [
    "# Udacity st101: Intro to Statistics\n",
    "\n",
    "Notes from [Udacity st101: Intro to statistics](https://www.udacity.com/course/intro-to-statistics--st101)."
   ]
  },
  {
   "cell_type": "code",
   "execution_count": 28,
   "metadata": {
    "collapsed": false
   },
   "outputs": [],
   "source": [
    "import numpy as np\n",
    "import matplotlib.pyplot as plt\n",
    "%matplotlib inline"
   ]
  },
  {
   "cell_type": "markdown",
   "metadata": {},
   "source": [
    "## Probability\n",
    "\n",
    "The basic formula of probability:\n",
    "\n",
    "$$ P(A) = 1 - P(\\neg A) $$\n",
    "\n",
    "### Conditional probability\n",
    "\n",
    "Like for a disease we would like to detect, if our test is not 100% accurate:\n",
    "\n",
    "$$ P(Test) = P(Test | Disease) * P(Disease) + P(Test | \\neg Disease) * P(\\neg Disease) $$"
   ]
  },
  {
   "cell_type": "markdown",
   "metadata": {},
   "source": [
    "## Bayes Rules\n",
    "\n",
    "$$ P(A|B) = \\frac {P(B|A)P(A)} {P(B)} $$"
   ]
  },
  {
   "cell_type": "code",
   "execution_count": 29,
   "metadata": {
    "collapsed": false
   },
   "outputs": [
    {
     "name": "stdout",
     "output_type": "stream",
     "text": [
      "0.615384615385\n",
      "0.384615384615\n"
     ]
    }
   ],
   "source": [
    "pr = 0.5\n",
    "pg = 0.5\n",
    "p_seeR_atR = 0.8\n",
    "p_seeG_atR = 0.2\n",
    "p_seeG_atG = 0.5\n",
    "p_seeR_atG = 0.5\n",
    "normalize = pr * p_seeR_atR + pg * p_seeR_atG\n",
    "print str((pr * p_seeR_atR) / normalize)\n",
    "print str((pg * p_seeR_atG) / normalize)"
   ]
  },
  {
   "cell_type": "code",
   "execution_count": 30,
   "metadata": {
    "collapsed": false
   },
   "outputs": [
    {
     "name": "stdout",
     "output_type": "stream",
     "text": [
      "0.819672131148\n",
      "0.0901639344262\n"
     ]
    }
   ],
   "source": [
    "print str(0.3 / 0.366)\n",
    "print str(0.033 / 0.366)"
   ]
  },
  {
   "cell_type": "code",
   "execution_count": 31,
   "metadata": {
    "collapsed": false
   },
   "outputs": [
    {
     "name": "stdout",
     "output_type": "stream",
     "text": [
      "0.184\n",
      "0.0217391304348\n"
     ]
    }
   ],
   "source": [
    "gone = 0.6\n",
    "home = 0.4\n",
    "rain_home = 0.01\n",
    "norain_home = 0.99\n",
    "rain_gone = 0.3\n",
    "norain_gone = 0.7\n",
    "norm = 0.4 * 0.01 + 0.6 * 0.3\n",
    "print (norm)\n",
    "print str((0.4 * 0.01) / norm)"
   ]
  },
  {
   "cell_type": "markdown",
   "metadata": {},
   "source": [
    "#### Programming Bayes Rules"
   ]
  },
  {
   "cell_type": "code",
   "execution_count": 32,
   "metadata": {
    "collapsed": false
   },
   "outputs": [
    {
     "name": "stdout",
     "output_type": "stream",
     "text": [
      "0.375\n"
     ]
    }
   ],
   "source": [
    "def f(p):\n",
    "    return 3 * p * (1 - p) * (1 - p)\n",
    "print str(f(0.5))"
   ]
  },
  {
   "cell_type": "markdown",
   "metadata": {
    "collapsed": true
   },
   "source": [
    "## Programming estimators\n",
    "\n",
    "MLE vs. Laplace ???\n",
    "\n",
    "#### Mean"
   ]
  },
  {
   "cell_type": "code",
   "execution_count": 33,
   "metadata": {
    "collapsed": false
   },
   "outputs": [
    {
     "name": "stdout",
     "output_type": "stream",
     "text": [
      "54.4\n"
     ]
    }
   ],
   "source": [
    "data1=[49., 66, 24, 98, 37, 64, 98, 27, 56, 93, 68, 78, 22, 25, 11]\n",
    "\n",
    "def mean(data):\n",
    "    return sum(data) / len(data)\n",
    "\n",
    "print mean(data1)"
   ]
  },
  {
   "cell_type": "markdown",
   "metadata": {},
   "source": [
    "#### Median"
   ]
  },
  {
   "cell_type": "code",
   "execution_count": 34,
   "metadata": {
    "collapsed": false
   },
   "outputs": [
    {
     "name": "stdout",
     "output_type": "stream",
     "text": [
      "2\n"
     ]
    }
   ],
   "source": [
    "# If ODD numbers only\n",
    "data1=[1,2,5,10,-20]\n",
    "\n",
    "def median(data):\n",
    "    sdata = sorted(data)\n",
    "    return sdata[(len(data) - 1) / 2]\n",
    "\n",
    "print median(data1)\n",
    "\n",
    "# If EVEN: we can either take the number OR the mean between median numbers"
   ]
  },
  {
   "cell_type": "markdown",
   "metadata": {},
   "source": [
    "#### Mode"
   ]
  },
  {
   "cell_type": "code",
   "execution_count": 35,
   "metadata": {
    "collapsed": false
   },
   "outputs": [
    {
     "name": "stdout",
     "output_type": "stream",
     "text": [
      "5\n"
     ]
    }
   ],
   "source": [
    "data1=[1,2,5,10,-20,5,5]\n",
    "\n",
    "def mode(data):\n",
    "    mode = 0\n",
    "    index = 0\n",
    "    for i in range(len(data)):\n",
    "        if data.count(data[i]) > mode:\n",
    "            index = i\n",
    "            mode = data.count(data[i])\n",
    "\n",
    "    return data[index]\n",
    "    \n",
    "print mode(data1)"
   ]
  },
  {
   "cell_type": "markdown",
   "metadata": {},
   "source": [
    "#### Variance\n",
    "\n",
    "$$ V(x) = \\sigma^{2} ={\\frac  1n}\\sum _{{i=1}}^{n}(x_{i}-\\mu)^{2} $$"
   ]
  },
  {
   "cell_type": "code",
   "execution_count": 36,
   "metadata": {
    "collapsed": false
   },
   "outputs": [
    {
     "name": "stdout",
     "output_type": "stream",
     "text": [
      "62.572884\n"
     ]
    }
   ],
   "source": [
    "data3=[13.04, 1.32, 22.65, 17.44, 29.54, 23.22, 17.65, 10.12, 26.73, 16.43]\n",
    "\n",
    "def variance(data):\n",
    "    mu = mean(data)\n",
    "    return mean([(x - mu) ** 2 for x in data])\n",
    "\n",
    "print variance(data3)"
   ]
  },
  {
   "cell_type": "markdown",
   "metadata": {},
   "source": [
    "#### Standard deviation\n",
    "\n",
    "$$ \\sigma = \\sqrt {V(x)} $$"
   ]
  },
  {
   "cell_type": "code",
   "execution_count": 37,
   "metadata": {
    "collapsed": false
   },
   "outputs": [
    {
     "name": "stdout",
     "output_type": "stream",
     "text": [
      "7.91030239624\n"
     ]
    }
   ],
   "source": [
    "from math import *\n",
    "def stddev(data):\n",
    "    return sqrt(variance(data))\n",
    "    \n",
    "print stddev(data3)"
   ]
  },
  {
   "cell_type": "markdown",
   "metadata": {
    "collapsed": true
   },
   "source": [
    "#### Standard score\n",
    "\n",
    "$$ \\frac {x - \\mu} {\\sigma} $$\n",
    "\n",
    "#### Variance correction factor\n",
    "\n",
    "$$ \\frac {n} {n - 1} $$\n",
    "\n",
    "$ n $: \\# data points in the sample"
   ]
  },
  {
   "cell_type": "markdown",
   "metadata": {
    "collapsed": true
   },
   "source": [
    "## Outliers: ignoring datas\n",
    "\n",
    "Outliers means in french: \"valeurs aberrantes\".\n",
    "\n",
    "#### Quartile\n",
    "\n",
    "To avoid some extreme datas, we split dataset with 4 quartiles separated by 3 values (one in the center - could be the median if odd, one up, one down). So quartile will be $ 4n + 3 $ multiple.\n",
    "\n",
    "#### Percentile\n",
    "\n",
    "It means we are going to remove a certain percent of the dataset, i.e. the upper 20%."
   ]
  },
  {
   "cell_type": "markdown",
   "metadata": {},
   "source": [
    "## Binomial distribution\n",
    "\n",
    "For example:\n",
    "\n",
    "Let's flip 10 coins (n = 10), how much head = 5 (k = 5) do we have?\n",
    "\n",
    "Answer is: $ \\frac {10 * 9 * 8 * 7 * 6} {5 * 4 * 3 * 2 * 1} = 252 $\n",
    "\n",
    "Formula is:\n",
    "$$ \\frac {n!} {k! (n - k)!} $$\n",
    "\n",
    "The _binomial distribution_:\n",
    "\n",
    "$$ \\frac {n!} {k! (n - k)!} * p^k * (1 - p)^{n-k} $$\n",
    "\n",
    "Where $k < n$, $p$ is the probability of $k$"
   ]
  },
  {
   "cell_type": "markdown",
   "metadata": {
    "collapsed": true
   },
   "source": [
    "## Central limit theorem\n",
    "\n",
    "You take outcomes, you sum them up and you end up with a Gaussian. It is the basis of large datas statistic."
   ]
  },
  {
   "cell_type": "markdown",
   "metadata": {},
   "source": [
    "## Normal distribution\n",
    "\n",
    "Binomial distribution > Central limit theorem > Normal distribution\n",
    "\n",
    "Normal distribution formula:\n",
    "\n",
    "$$ N(X; \\mu, \\sigma^{2}) = \\frac {1} {\\sqrt {2 \\pi \\sigma^{2}}} e^{- \\frac {1} {2} \\frac {(X - \\mu)^2} {\\sigma^{2}} } $$\n",
    "\n",
    "We multiply by $ \\frac {1} {\\sqrt {2 \\pi \\sigma^{2}}} $ because this is the area behind the bell (integral), but we wan't a probability (sum equals to 1)."
   ]
  },
  {
   "cell_type": "code",
   "execution_count": 71,
   "metadata": {
    "collapsed": false
   },
   "outputs": [
    {
     "data": {
      "image/png": "[encoded data removed]",
      "text/plain": [
       "<matplotlib.figure.Figure at 0x104063b50>"
      ]
     },
     "metadata": {},
     "output_type": "display_data"
    }
   ],
   "source": [
    "# Change variables and visualize how it change the bell\n",
    "import numpy as np\n",
    "import matplotlib.pyplot as plt\n",
    "%matplotlib inline\n",
    "\n",
    "# Change range of X\n",
    "datas = [x for x in range(-15, 16)]\n",
    "# Choose mean and variance (use numpy functions for convenience)\n",
    "mean = np.mean(datas)\n",
    "var = np.var(datas)\n",
    "\n",
    "def normal_distribution(X, mean, var):\n",
    "    \"\"\"Compute normal distribution.\n",
    "    \n",
    "    In other words, it computes the repartition of a large number of datas according to mean and variance.\n",
    "    \n",
    "    Args:\n",
    "        X (scalar or list): Datas\n",
    "        mean (scalar): Mean\n",
    "        Var (scalar): Variance\n",
    "    \n",
    "    Returns:\n",
    "        Normal distribution value (scalar or list)\n",
    "    \"\"\"\n",
    "    factor = 1 / (np.sqrt(2 * np.pi * var))\n",
    "    expone = np.exp((- 1 / 2) * np.divide(np.square(np.subtract(X, mean)), var))\n",
    "    n_dist = np.multiply(factor, expone)\n",
    "    return n_dist\n",
    "\n",
    "results = normal_distribution(datas, mean, var)\n",
    "plt.plot(datas, results)\n",
    "plt.show()"
   ]
  },
  {
   "cell_type": "markdown",
   "metadata": {},
   "source": [
    "### Manipulating normals\n",
    "\n",
    "We can make a bunch of calculus with normals. Let's say $X$ is a normal distribution, with parameters $\\mu$ and $\\sigma^2$. We can say that for $aX+b$ the mean is equal to $a\\mu+b$ and the variance is equal to $a^2\\sigma^2$.\n",
    "\n",
    "If we wan't to add two normal distributed variables $X(\\mu_1, \\sigma_1^2)$ and $Y(\\mu_1, \\sigma_1^2)$: $(X + Y)$, the resulting mean would be $\\mu_1 + \\mu_2$ and the variance: $\\sigma_1^2 + \\sigma_2^2$.\n",
    "\n",
    "But if we wan't to substract them: the means will subtract whereas the variances will still add up."
   ]
  },
  {
   "cell_type": "code",
   "execution_count": 85,
   "metadata": {
    "collapsed": false
   },
   "outputs": [
    {
     "name": "stdout",
     "output_type": "stream",
     "text": [
      "-2.10526315789e+20\n",
      "72.6280358273\n"
     ]
    }
   ],
   "source": [
    "# Exercise: Sebastian's weight\n",
    "\n",
    "import random\n",
    "from math import sqrt\n",
    "\n",
    "def mean(data):\n",
    "    return sum(data)/len(data)\n",
    "\n",
    "def variance(data):\n",
    "    mu=mean(data)\n",
    "    return sum([(x-mu)**2 for x in data])/len(data)\n",
    "\n",
    "def stddev(data):\n",
    "    return sqrt(variance(data))\n",
    "\n",
    "\n",
    "\n",
    "weight=[80.,85,200,85,69,65,68,66,85,72,85,82,65,105,75,80,\n",
    "    70,74,72,70,80,60,80,75,80,78,63,88.65,90,89,91,1.00E+22,\n",
    "    75,75,90,80,75,-1.00E+22,-1.00E+22,-1.00E+22,86.54,67,70,92,70,76,81,93,\n",
    "    70,85,75,76,79,89,80,73.6,80,80,120,80,70,110,65,80,\n",
    "    250,80,85,81,80,85,80,90,85,85,82,83,80,160,75,75,\n",
    "    80,85,90,80,89,70,90,100,70,80,77,95,120,250,60]\n",
    "\n",
    "print mean(weight)\n",
    "\n",
    "import matplotlib.pyplot as plt\n",
    "%matplotlib inline\n",
    "\n",
    "def calculate_weight(data, z):\n",
    "    # remove outliers\n",
    "    # extract data between lower and upper quartile\n",
    "    data_sorted = sorted(data)\n",
    "    data_len = len(data_sorted)\n",
    "    quartile = data_len / 4. - 3\n",
    "    lower = int(0.25 * data_len) + 1 - 1  # Minus 1 because the array starts at 0\n",
    "    upper = int(0.75 * data_len) + 3 - 1\n",
    "    data_quartile = data_sorted[lower: upper]\n",
    "\n",
    "    # fit Gaussian using MLE\n",
    "    sigma = stddev(data_quartile)\n",
    "    mu = mean(data_quartile)\n",
    "\n",
    "    # compute x that corresponds to standard score z\n",
    "    x = z * sigma + mu\n",
    "    return x\n",
    "\n",
    "print calculate_weight(weight, -2.)\n",
    "\n"
   ]
  },
  {
   "cell_type": "markdown",
   "metadata": {},
   "source": [
    "[Maximum likelihood estimation](http://www.cs.princeton.edu/courses/archive/spr08/cos424/scribe_notes/0214.pdf)"
   ]
  },
  {
   "cell_type": "markdown",
   "metadata": {},
   "source": [
    "## Confidence intervals\n",
    "\n",
    "Confidence intervals shrinks as we increase our samples $N$.\n",
    "\n",
    "$CI$ formula: $$ CI = \\frac {\\sigma} {\\sqrt{N}}, CI \\propto \\sigma $$\n",
    "\n",
    "If we have $p = mean(p)$ thus the variance will be: $VAR(X) = p(1 - p)$."
   ]
  }
 ],
 "metadata": {
  "anaconda-cloud": {},
  "kernelspec": {
   "display_name": "Python [Root]",
   "language": "python",
   "name": "Python [Root]"
  },
  "language_info": {
   "codemirror_mode": {
    "name": "ipython",
    "version": 2
   },
   "file_extension": ".py",
   "mimetype": "text/x-python",
   "name": "python",
   "nbconvert_exporter": "python",
   "pygments_lexer": "ipython2",
   "version": "2.7.12"
  }
 },
 "nbformat": 4,
 "nbformat_minor": 0
}

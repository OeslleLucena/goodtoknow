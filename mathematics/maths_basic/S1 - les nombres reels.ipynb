{
 "cells": [
  {
   "cell_type": "markdown",
   "metadata": {},
   "source": [
    ">  DISCLAIMER: This is some reviewing mathematics basics. I'm doing a [french MOOC](https://www.fun-mooc.fr/courses/itii/119002/session01/about), thus these notebooks will be written in french."
   ]
  },
  {
   "cell_type": "markdown",
   "metadata": {},
   "source": [
    "# S1 : Les nombres réels\n",
    "\n",
    "## Les entiers naturels\n",
    "\n",
    "Entiers naturels : $ \\mathbb{N} $\n",
    "\n",
    "## Les rationnels/irrationnels/réels\n",
    "\n",
    "_Petit exercice : faire un algorithme de réduction de fraction sous sa forme irréductible._\n",
    "\n",
    "Implémentation de l'algorithme d'Euclide qui trouve le Greatest Common Divisor.\n",
    "\n",
    "TODO"
   ]
  },
  {
   "cell_type": "code",
   "execution_count": null,
   "metadata": {
    "collapsed": true
   },
   "outputs": [],
   "source": []
  },
  {
   "cell_type": "markdown",
   "metadata": {},
   "source": [
    "## Intervalles/approximations/écritures scientifiques\n",
    "\n",
    "## Problèmes du premier ordre\n",
    "\n",
    "## Résolution de systèmes linéaires\n",
    "\n",
    "## Trinôme du second degré"
   ]
  },
  {
   "cell_type": "code",
   "execution_count": null,
   "metadata": {
    "collapsed": true
   },
   "outputs": [],
   "source": []
  }
 ],
 "metadata": {
  "kernelspec": {
   "display_name": "Python 3",
   "language": "python",
   "name": "python3"
  },
  "language_info": {
   "codemirror_mode": {
    "name": "ipython",
    "version": 3
   },
   "file_extension": ".py",
   "mimetype": "text/x-python",
   "name": "python",
   "nbconvert_exporter": "python",
   "pygments_lexer": "ipython3",
   "version": "3.6.0"
  }
 },
 "nbformat": 4,
 "nbformat_minor": 2
}

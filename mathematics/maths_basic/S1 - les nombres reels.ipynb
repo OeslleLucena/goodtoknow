{
 "cells": [
  {
   "cell_type": "markdown",
   "metadata": {},
   "source": [
    ">  DISCLAIMER: This is some reviewing mathematics basics. I'm doing a [french MOOC](https://www.fun-mooc.fr/courses/itii/119002/session01/about), thus these notebooks will be written in french."
   ]
  },
  {
   "cell_type": "markdown",
   "metadata": {},
   "source": [
    "# S1 : Les nombres réels\n",
    "\n",
    "## Les entiers naturels\n",
    "\n",
    "Entiers naturels : $ \\mathbb{N} $\n",
    "\n",
    "## Les rationnels/irrationnels/réels\n",
    "\n",
    "_Petit exercice : faire un algorithme de réduction de fraction sous sa forme irréductible._\n",
    "\n",
    "Implémentation de __l'algorithme d'Euclide__ qui trouve le Plus Grand Diviseur Commun (Greatest Common Divisor)."
   ]
  },
  {
   "cell_type": "code",
   "execution_count": 3,
   "metadata": {
    "collapsed": false
   },
   "outputs": [
    {
     "name": "stdout",
     "output_type": "stream",
     "text": [
      "1\n"
     ]
    }
   ],
   "source": [
    "def gcd(num, den):\n",
    "    while num > 0:\n",
    "        tmp = num\n",
    "        num = den % num\n",
    "        den = tmp\n",
    "    return den\n",
    "\n",
    "print(gcd(308, 3))"
   ]
  },
  {
   "cell_type": "markdown",
   "metadata": {},
   "source": [
    "## Intervalles/approximations/écritures scientifiques\n",
    "\n",
    "## Problèmes du premier ordre\n",
    "\n",
    "## Résolution de systèmes linéaires\n",
    "\n",
    "Pour résoudre facilement un système linéaire on peut utiliser [l'algorithme de Gauss](https://youtu.be/qhF59G5OTng) ou encore [Gaussian Elimination/row reduction](https://en.wikipedia.org/wiki/Gaussian_elimination).\n",
    "\n",
    "Implémentation de cet algo :"
   ]
  },
  {
   "cell_type": "code",
   "execution_count": 7,
   "metadata": {
    "collapsed": false
   },
   "outputs": [
    {
     "name": "stdout",
     "output_type": "stream",
     "text": [
      "i_max:  3 , maxEl:  30\n",
      "i_max:  3 , maxEl:  33\n",
      "i_max:  3 , maxEl:  39\n"
     ]
    }
   ],
   "source": [
    "import numpy as np\n",
    "\n",
    "def gauss(A):\n",
    "    \"\"\"Solve linear systems.\n",
    "    \n",
    "    Args:\n",
    "        A (numpy array): augmented matrix of (n, n+1) dimensions.\n",
    "    \n",
    "    Returns:\n",
    "        \n",
    "    \"\"\"\n",
    "    n = A.shape[0] # n = row number\n",
    "    for i in range(0, n):\n",
    "        i_max = np.argmax(A[i], 0)\n",
    "        maxEl = abs(A[i][i_max])\n",
    "        print(\"i_max: \", i_max, \", maxEl: \", maxEl)\n",
    "# Let's test this!\n",
    "A = np.array([[5, 3, 3, 30], [3, 6, 6, 33], [5, 6, 5, 39]])\n",
    "gauss(A)"
   ]
  },
  {
   "cell_type": "markdown",
   "metadata": {},
   "source": [
    "## Trinôme du second degré"
   ]
  }
 ],
 "metadata": {
  "kernelspec": {
   "display_name": "Python 3",
   "language": "python",
   "name": "python3"
  },
  "language_info": {
   "codemirror_mode": {
    "name": "ipython",
    "version": 3
   },
   "file_extension": ".py",
   "mimetype": "text/x-python",
   "name": "python",
   "nbconvert_exporter": "python",
   "pygments_lexer": "ipython3",
   "version": "3.6.0"
  }
 },
 "nbformat": 4,
 "nbformat_minor": 2
}

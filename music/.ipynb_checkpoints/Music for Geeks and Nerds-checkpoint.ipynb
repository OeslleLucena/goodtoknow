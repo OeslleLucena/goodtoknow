{
 "cells": [
  {
   "cell_type": "markdown",
   "metadata": {},
   "source": [
    "# Music for Geeks and Nerds\n",
    "\n",
    "Exercices from ebook [Music for Geeks and Nerds](http://pedrokroger.net/mfgan/).\n",
    "\n",
    "## Integer notation"
   ]
  },
  {
   "cell_type": "code",
   "execution_count": 1,
   "metadata": {
    "collapsed": false
   },
   "outputs": [
    {
     "name": "stdout",
     "output_type": "stream",
     "text": [
      "0:\tC\n",
      "2:\tD\n",
      "15:\tD#\n"
     ]
    }
   ],
   "source": [
    "# We are going to represent pitches as integers.\n",
    "# As we have 12 pitches in western music, it corresponds to mod12.\n",
    "\n",
    "def mod12(n):\n",
    "    return n % 12\n",
    "\n",
    "# So in order to show a note name given an integer:\n",
    "\n",
    "def note_name(n):\n",
    "    notes = \"C C# D D# E F F# G G# A A# B\".split()\n",
    "    return notes[mod12(n)]\n",
    "\n",
    "# Examples:\n",
    "\n",
    "print \"{}:\\t{}\".format(0, note_name(0))\n",
    "print \"{}:\\t{}\".format(2, note_name(2))\n",
    "print \"{}:\\t{}\".format(15, note_name(15))"
   ]
  },
  {
   "cell_type": "code",
   "execution_count": 2,
   "metadata": {
    "collapsed": false
   },
   "outputs": [
    {
     "name": "stdout",
     "output_type": "stream",
     "text": [
      "C:\t0\n",
      "C#:\t1\n",
      "Ebb:\t2\n"
     ]
    }
   ],
   "source": [
    "# But, we are limited only with sharps. Can we make a function\n",
    "# that takes a note and give us the corresponding integer?\n",
    "# Here is a naive implementation:\n",
    "\n",
    "def naive_accidentals(note_string):\n",
    "    \"\"\"Compute the accidental naive way.\"\"\"\n",
    "    acc = len(note_string[1:])\n",
    "    if \"#\" in note_string:\n",
    "        return acc\n",
    "    elif \"b\" in note_string:\n",
    "        return -acc\n",
    "    else:\n",
    "        return 0\n",
    "\n",
    "def naive_name_to_number(note_string):\n",
    "    \"\"\"Transform a note string, i.e. 'Ebb', to integer, '2'.\"\"\"\n",
    "    notes = \"C . D . E F . G . A . B\".split()\n",
    "    # Keep the note, which would be the first character\n",
    "    note = note_string[0:1].upper()\n",
    "    # Find the integer corresponding\n",
    "    note_int = notes.index(note)\n",
    "    # Get the accidentals\n",
    "    acc = naive_accidentals(note_string)\n",
    "    return mod12(note_int + acc)\n",
    "    \n",
    "\n",
    "print \"{}:\\t{}\".format(\"C\", naive_name_to_number(\"C\"))\n",
    "print \"{}:\\t{}\".format(\"C#\", naive_name_to_number(\"C#\"))\n",
    "print \"{}:\\t{}\".format(\"Ebb\", naive_name_to_number(\"Ebb\"))"
   ]
  },
  {
   "cell_type": "code",
   "execution_count": 3,
   "metadata": {
    "collapsed": false
   },
   "outputs": [
    {
     "name": "stdout",
     "output_type": "stream",
     "text": [
      "C#b#:\t1\n",
      "A##b#:\t11\n",
      "Eb##bbb:\t2\n"
     ]
    }
   ],
   "source": [
    "# Exercise 1: make a function that could deal with notes\n",
    "# like \"C#b#\". We assume that note is equal to \"C#\", as b cancel one #.\n",
    "\n",
    "def ex1_accidentals(note_string):\n",
    "    \"\"\"Compute the accidental naive way.\"\"\"\n",
    "    result = 0\n",
    "    for acc in note_string:\n",
    "        if acc == \"#\":\n",
    "            result += 1\n",
    "        elif acc == \"b\":\n",
    "            result -= 1\n",
    "    return result\n",
    "\n",
    "def ex1_name_to_number(note_string):\n",
    "    \"\"\"Transform a note string, i.e. 'Ebb', to integer, '2'.\"\"\"\n",
    "    notes = \"C . D . E F . G . A . B\".split()\n",
    "    # Keep the note, which would be the first character\n",
    "    note = note_string[0:1].upper()\n",
    "    # Find the integer corresponding\n",
    "    note_int = notes.index(note)\n",
    "    # Get the accidentals\n",
    "    acc = ex1_accidentals(note_string)\n",
    "    return mod12(note_int + acc)\n",
    "\n",
    "print \"{}:\\t{}\".format(\"C#b#\", ex1_name_to_number(\"C#b#\"))\n",
    "print \"{}:\\t{}\".format(\"A##b#\", ex1_name_to_number(\"A##b#\"))\n",
    "print \"{}:\\t{}\".format(\"Eb##bbb\", ex1_name_to_number(\"Eb##bbb\"))"
   ]
  },
  {
   "cell_type": "code",
   "execution_count": null,
   "metadata": {
    "collapsed": true
   },
   "outputs": [],
   "source": []
  }
 ],
 "metadata": {
  "anaconda-cloud": {},
  "kernelspec": {
   "display_name": "Python [Root]",
   "language": "python",
   "name": "Python [Root]"
  },
  "language_info": {
   "codemirror_mode": {
    "name": "ipython",
    "version": 2
   },
   "file_extension": ".py",
   "mimetype": "text/x-python",
   "name": "python",
   "nbconvert_exporter": "python",
   "pygments_lexer": "ipython2",
   "version": "2.7.12"
  }
 },
 "nbformat": 4,
 "nbformat_minor": 0
}

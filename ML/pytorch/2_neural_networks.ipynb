{
 "cells": [
  {
   "cell_type": "markdown",
   "metadata": {},
   "source": [
    "## Neural networks: lenet5"
   ]
  },
  {
   "cell_type": "code",
   "execution_count": 1,
   "metadata": {
    "collapsed": false
   },
   "outputs": [
    {
     "name": "stdout",
     "output_type": "stream",
     "text": [
      "Net (\n",
      "  (conv1): Conv2d(1, 6, kernel_size=(5, 5), stride=(1, 1))\n",
      "  (conv2): Conv2d(6, 16, kernel_size=(5, 5), stride=(1, 1))\n",
      "  (fc1): Linear (400 -> 120)\n",
      "  (fc2): Linear (120 -> 84)\n",
      "  (fc3): Linear (84 -> 10)\n",
      ")\n"
     ]
    }
   ],
   "source": [
    "import torch\n",
    "from torch.autograd import Variable\n",
    "import torch.nn as nn\n",
    "import torch.nn.functional as F\n",
    "\n",
    "class Net(nn.Module):\n",
    "    def __init__(self):\n",
    "        super(Net, self).__init__()\n",
    "        self.conv1 = nn.Conv2d(1, 6, 5)\n",
    "        self.conv2 = nn.Conv2d(6, 16, 5)\n",
    "        self.fc1 = nn.Linear(16 * 5 * 5, 120)\n",
    "        self.fc2 = nn.Linear(120, 84)\n",
    "        self.fc3 = nn.Linear(84, 10)\n",
    "        \n",
    "    def forward(self, x):\n",
    "        x = F.max_pool2d(F.relu(self.conv1(x)), (2, 2))\n",
    "        x = F.max_pool2d(F.relu(self.conv2(x)), 2)\n",
    "        x = x.view(-1, self.num_flat_features(x))\n",
    "        x = F.relu(self.fc1(x))\n",
    "        x = F.relu(self.fc2(x))\n",
    "        x = self.fc3(x)\n",
    "        return x\n",
    "    \n",
    "    def num_flat_features(self, x):\n",
    "        size = x.size()[1:]\n",
    "        num_features = 1\n",
    "        for s in size:\n",
    "            num_features *= s\n",
    "        return num_features\n",
    "    \n",
    "net = Net()\n",
    "print(net)"
   ]
  },
  {
   "cell_type": "code",
   "execution_count": 2,
   "metadata": {
    "collapsed": false
   },
   "outputs": [
    {
     "name": "stdout",
     "output_type": "stream",
     "text": [
      "10\n",
      "torch.Size([6, 1, 5, 5])\n",
      "Parameter containing:\n",
      "(0 ,0 ,.,.) = \n",
      "  0.0695 -0.0359  0.1706  0.1521  0.1067\n",
      " -0.1449 -0.0303 -0.1608 -0.1046 -0.0512\n",
      " -0.0005  0.1205  0.0144 -0.0752 -0.0652\n",
      " -0.0407  0.1882 -0.0305 -0.1201  0.0595\n",
      "  0.1992  0.1409 -0.0686 -0.0687 -0.0319\n",
      "\n",
      "(1 ,0 ,.,.) = \n",
      "  0.1687 -0.1868  0.1006  0.0462  0.1158\n",
      "  0.1400 -0.1306 -0.0486  0.1926 -0.0289\n",
      " -0.0600 -0.1457 -0.0426  0.1493 -0.0056\n",
      " -0.0437  0.0336  0.0665  0.0717  0.0829\n",
      " -0.0092 -0.1656 -0.1323 -0.0101 -0.0160\n",
      "\n",
      "(2 ,0 ,.,.) = \n",
      " -0.1295 -0.0372 -0.1214 -0.0735 -0.0103\n",
      " -0.1637  0.0319 -0.0089  0.0573 -0.1540\n",
      "  0.0758 -0.0282 -0.1910  0.0631 -0.0241\n",
      " -0.0798 -0.0871  0.0041 -0.0778  0.1138\n",
      "  0.0981  0.0675 -0.1046  0.1774 -0.0779\n",
      "\n",
      "(3 ,0 ,.,.) = \n",
      " -0.1738 -0.0881 -0.1004 -0.1933  0.1630\n",
      "  0.0095  0.0109 -0.0141  0.1925 -0.0735\n",
      "  0.0104  0.0379  0.0422 -0.0575  0.0469\n",
      " -0.1396  0.1240 -0.0251  0.1017 -0.0266\n",
      "  0.1868 -0.1680  0.0190 -0.1492 -0.1325\n",
      "\n",
      "(4 ,0 ,.,.) = \n",
      " -0.1145  0.1612 -0.1598 -0.1838  0.0746\n",
      "  0.1567  0.1269 -0.1846 -0.0734  0.1180\n",
      "  0.1731  0.1892  0.0591  0.1913  0.0446\n",
      "  0.0188  0.0606 -0.1328  0.1496 -0.0155\n",
      "  0.1758  0.1926  0.1923  0.1056  0.1265\n",
      "\n",
      "(5 ,0 ,.,.) = \n",
      " -0.0888  0.0285  0.0805 -0.0776  0.0463\n",
      " -0.0995  0.1627  0.0327  0.1452  0.1772\n",
      "  0.1894  0.1730  0.0401 -0.1395  0.1896\n",
      "  0.1290  0.1952 -0.1351  0.0587 -0.0568\n",
      " -0.0641  0.0814 -0.1575  0.0781  0.1107\n",
      "[torch.FloatTensor of size 6x1x5x5]\n",
      "\n"
     ]
    }
   ],
   "source": [
    "# Learnable parameters\n",
    "params = list(net.parameters())\n",
    "print(len(params))\n",
    "print(params[0].size()) # conv1's weights\n",
    "print(params[0])"
   ]
  },
  {
   "cell_type": "code",
   "execution_count": 3,
   "metadata": {
    "collapsed": false
   },
   "outputs": [
    {
     "name": "stdout",
     "output_type": "stream",
     "text": [
      "Variable containing:\n",
      "-0.0835  0.0557  0.1064  0.0963 -0.0038  0.0173 -0.0359 -0.0972 -0.0931  0.0437\n",
      "[torch.FloatTensor of size 1x10]\n",
      "\n"
     ]
    }
   ],
   "source": [
    "input = Variable(torch.randn(1, 1, 32, 32))\n",
    "out = net(input)\n",
    "print(out)"
   ]
  },
  {
   "cell_type": "code",
   "execution_count": 4,
   "metadata": {
    "collapsed": true
   },
   "outputs": [],
   "source": [
    "net.zero_grad()\n",
    "out.backward(torch.randn(1, 10))"
   ]
  },
  {
   "cell_type": "code",
   "execution_count": 5,
   "metadata": {
    "collapsed": false
   },
   "outputs": [
    {
     "name": "stdout",
     "output_type": "stream",
     "text": [
      "Variable containing:\n",
      " 38.6278\n",
      "[torch.FloatTensor of size 1]\n",
      "\n"
     ]
    },
    {
     "name": "stderr",
     "output_type": "stream",
     "text": [
      "/Users/ademenet/goinfre/anaconda3/lib/python3.6/site-packages/ipykernel/__main__.py:2: UserWarning: torch.range is deprecated in favor of torch.arange and will be removed in 0.3. Note that arange generates values in [start; end), not [start; end].\n",
      "  from ipykernel import kernelapp as app\n"
     ]
    }
   ],
   "source": [
    "output = net(input)\n",
    "target = Variable(torch.range(1, 10))\n",
    "criterion = nn.MSELoss()\n",
    "\n",
    "loss = criterion(output, target)\n",
    "print(loss)"
   ]
  },
  {
   "cell_type": "code",
   "execution_count": 6,
   "metadata": {
    "collapsed": false
   },
   "outputs": [
    {
     "name": "stdout",
     "output_type": "stream",
     "text": [
      "<torch.nn._functions.thnn.auto.MSELoss object at 0x10b1c13c8>\n",
      "<torch.nn._functions.linear.Linear object at 0x10b1c1208>\n",
      "<torch.nn._functions.thnn.auto.Threshold object at 0x10b1c1128>\n",
      "<torch.nn._functions.linear.Linear object at 0x10b1c1048>\n"
     ]
    }
   ],
   "source": [
    "print(loss.creator)\n",
    "print(loss.creator.previous_functions[0][0])\n",
    "print(loss.creator.previous_functions[0][0].previous_functions[0][0])\n",
    "print(loss.creator.previous_functions[0][0].previous_functions[0][0].previous_functions[0][0])"
   ]
  },
  {
   "cell_type": "code",
   "execution_count": 7,
   "metadata": {
    "collapsed": false
   },
   "outputs": [
    {
     "name": "stdout",
     "output_type": "stream",
     "text": [
      "Variable containing:\n",
      " 0\n",
      " 0\n",
      " 0\n",
      " 0\n",
      " 0\n",
      " 0\n",
      "[torch.FloatTensor of size 6]\n",
      "\n",
      "Variable containing:\n",
      "1.00000e-02 *\n",
      "  5.0322\n",
      " -5.9714\n",
      " -3.0797\n",
      " -5.1227\n",
      " -4.2310\n",
      " -4.0425\n",
      "[torch.FloatTensor of size 6]\n",
      "\n"
     ]
    }
   ],
   "source": [
    "net.zero_grad()\n",
    "print(net.conv1.bias.grad)\n",
    "\n",
    "loss.backward()\n",
    "print(net.conv1.bias.grad)"
   ]
  },
  {
   "cell_type": "code",
   "execution_count": 9,
   "metadata": {
    "collapsed": false
   },
   "outputs": [
    {
     "name": "stdout",
     "output_type": "stream",
     "text": [
      "Parameter containing:\n",
      "(0 ,0 ,.,.) = \n",
      "  0.0699 -0.0357  0.1703  0.1527  0.1066\n",
      " -0.1434 -0.0298 -0.1595 -0.1044 -0.0502\n",
      "  0.0001  0.1194  0.0125 -0.0766 -0.0655\n",
      " -0.0402  0.1890 -0.0313 -0.1193  0.0598\n",
      "  0.1987  0.1410 -0.0684 -0.0696 -0.0324\n",
      "\n",
      "(1 ,0 ,.,.) = \n",
      "  0.1685 -0.1878  0.1022  0.0451  0.1173\n",
      "  0.1412 -0.1312 -0.0499  0.1940 -0.0282\n",
      " -0.0573 -0.1453 -0.0424  0.1509 -0.0043\n",
      " -0.0440  0.0347  0.0645  0.0687  0.0832\n",
      " -0.0098 -0.1676 -0.1314 -0.0106 -0.0173\n",
      "\n",
      "(2 ,0 ,.,.) = \n",
      " -0.1284 -0.0380 -0.1207 -0.0753 -0.0107\n",
      " -0.1639  0.0318 -0.0090  0.0576 -0.1556\n",
      "  0.0757 -0.0277 -0.1912  0.0652 -0.0247\n",
      " -0.0791 -0.0890  0.0030 -0.0783  0.1143\n",
      "  0.0965  0.0665 -0.1058  0.1776 -0.0790\n",
      "\n",
      "(3 ,0 ,.,.) = \n",
      " -0.1751 -0.0869 -0.1030 -0.1951  0.1636\n",
      "  0.0091  0.0090 -0.0145  0.1923 -0.0734\n",
      "  0.0104  0.0394  0.0408 -0.0575  0.0494\n",
      " -0.1417  0.1228 -0.0233  0.1037 -0.0270\n",
      "  0.1868 -0.1685  0.0195 -0.1487 -0.1297\n",
      "\n",
      "(4 ,0 ,.,.) = \n",
      " -0.1150  0.1607 -0.1583 -0.1838  0.0767\n",
      "  0.1557  0.1279 -0.1863 -0.0719  0.1203\n",
      "  0.1723  0.1904  0.0603  0.1894  0.0443\n",
      "  0.0192  0.0605 -0.1316  0.1507 -0.0161\n",
      "  0.1760  0.1930  0.1930  0.1060  0.1281\n",
      "\n",
      "(5 ,0 ,.,.) = \n",
      " -0.0881  0.0289  0.0796 -0.0770  0.0462\n",
      " -0.0999  0.1634  0.0320  0.1463  0.1760\n",
      "  0.1865  0.1733  0.0417 -0.1401  0.1904\n",
      "  0.1290  0.1964 -0.1380  0.0597 -0.0568\n",
      " -0.0637  0.0811 -0.1588  0.0780  0.1103\n",
      "[torch.FloatTensor of size 6x1x5x5]\n",
      "\n"
     ]
    }
   ],
   "source": [
    "learning_rate = 0.01\n",
    "for f in net.parameters():\n",
    "    f.data.sub_(f.grad.data * learning_rate)\n",
    "print(params[0])"
   ]
  },
  {
   "cell_type": "code",
   "execution_count": 11,
   "metadata": {
    "collapsed": true
   },
   "outputs": [],
   "source": [
    "import torch.optim as optim\n",
    "\n",
    "optimizer = optim.SGD(net.parameters(), lr=0.01)\n",
    "\n",
    "optimizer.zero_grad()\n",
    "output = net(input)\n",
    "loss = criterion(output, target)\n",
    "loss.backward()\n",
    "optimizer.step()"
   ]
  },
  {
   "cell_type": "code",
   "execution_count": 12,
   "metadata": {
    "collapsed": false
   },
   "outputs": [
    {
     "name": "stdout",
     "output_type": "stream",
     "text": [
      "Parameter containing:\n",
      "(0 ,0 ,.,.) = \n",
      "  0.0724 -0.0358  0.1721  0.1534  0.1088\n",
      " -0.1429 -0.0299 -0.1602 -0.1052 -0.0501\n",
      "  0.0011  0.1185  0.0104 -0.0767 -0.0663\n",
      " -0.0391  0.1907 -0.0316 -0.1176  0.0607\n",
      "  0.1989  0.1428 -0.0694 -0.0706 -0.0340\n",
      "\n",
      "(1 ,0 ,.,.) = \n",
      "  0.1704 -0.1894  0.1064  0.0453  0.1184\n",
      "  0.1442 -0.1343 -0.0528  0.1958 -0.0305\n",
      " -0.0574 -0.1452 -0.0438  0.1517 -0.0029\n",
      " -0.0451  0.0356  0.0638  0.0672  0.0835\n",
      " -0.0102 -0.1700 -0.1311 -0.0103 -0.0188\n",
      "\n",
      "(2 ,0 ,.,.) = \n",
      " -0.1283 -0.0373 -0.1205 -0.0762 -0.0108\n",
      " -0.1652  0.0303 -0.0079  0.0579 -0.1568\n",
      "  0.0767 -0.0277 -0.1936  0.0680 -0.0256\n",
      " -0.0798 -0.0913  0.0029 -0.0795  0.1151\n",
      "  0.0969  0.0668 -0.1070  0.1781 -0.0799\n",
      "\n",
      "(3 ,0 ,.,.) = \n",
      " -0.1786 -0.0874 -0.1056 -0.2003  0.1657\n",
      "  0.0092  0.0101 -0.0149  0.1967 -0.0726\n",
      "  0.0124  0.0429  0.0409 -0.0584  0.0512\n",
      " -0.1467  0.1246 -0.0213  0.1078 -0.0253\n",
      "  0.1903 -0.1707  0.0203 -0.1506 -0.1308\n",
      "\n",
      "(4 ,0 ,.,.) = \n",
      " -0.1171  0.1632 -0.1594 -0.1865  0.0785\n",
      "  0.1585  0.1288 -0.1896 -0.0728  0.1216\n",
      "  0.1728  0.1927  0.0611  0.1891  0.0441\n",
      "  0.0166  0.0597 -0.1326  0.1521 -0.0166\n",
      "  0.1793  0.1951  0.1948  0.1070  0.1308\n",
      "\n",
      "(5 ,0 ,.,.) = \n",
      " -0.0878  0.0274  0.0796 -0.0764  0.0454\n",
      " -0.1008  0.1651  0.0310  0.1502  0.1782\n",
      "  0.1851  0.1741  0.0431 -0.1423  0.1930\n",
      "  0.1295  0.1981 -0.1401  0.0590 -0.0573\n",
      " -0.0648  0.0819 -0.1591  0.0781  0.1097\n",
      "[torch.FloatTensor of size 6x1x5x5]\n",
      "\n"
     ]
    }
   ],
   "source": [
    "print(params[0])"
   ]
  },
  {
   "cell_type": "code",
   "execution_count": null,
   "metadata": {
    "collapsed": true
   },
   "outputs": [],
   "source": []
  }
 ],
 "metadata": {
  "kernelspec": {
   "display_name": "Python 3",
   "language": "python",
   "name": "python3"
  },
  "language_info": {
   "codemirror_mode": {
    "name": "ipython",
    "version": 3
   },
   "file_extension": ".py",
   "mimetype": "text/x-python",
   "name": "python",
   "nbconvert_exporter": "python",
   "pygments_lexer": "ipython3",
   "version": "3.6.0"
  }
 },
 "nbformat": 4,
 "nbformat_minor": 2
}

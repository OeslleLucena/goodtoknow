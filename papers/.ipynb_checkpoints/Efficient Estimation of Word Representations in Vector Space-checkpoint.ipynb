{
 "cells": [
  {
   "cell_type": "markdown",
   "metadata": {},
   "source": [
    "# Papier\n",
    "\n",
    "- Titre : Efficient Estimation of Word Representations in Vector Space\n",
    "- Auteurs : Tomas Mikolov, Kai Chen, Greg Corrado, Jeffrey Dean\n",
    "- Lien : https://arxiv.org/abs/1301.3781\n",
    "- Année : 2013\n",
    "\n",
    "# Résumé\n",
    "\n",
    "## Quoi ? Pourquoi ?\n",
    "\n",
    "Les mots dans les systèmes de NLP sont souvent traités sans contexte. L'approche de ce papier est de créer une représentation d'un mot en essayant de garder les multiples relations qu'il peut avoir avec les autres. \n",
    "\n",
    "## Comment ?\n",
    "\n",
    "## Résultats"
   ]
  }
 ],
 "metadata": {
  "kernelspec": {
   "display_name": "Python 3",
   "language": "python",
   "name": "python3"
  },
  "language_info": {
   "codemirror_mode": {
    "name": "ipython",
    "version": 3
   },
   "file_extension": ".py",
   "mimetype": "text/x-python",
   "name": "python",
   "nbconvert_exporter": "python",
   "pygments_lexer": "ipython3",
   "version": "3.6.1"
  }
 },
 "nbformat": 4,
 "nbformat_minor": 2
}

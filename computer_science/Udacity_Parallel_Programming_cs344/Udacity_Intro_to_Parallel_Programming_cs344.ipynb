{
 "cells": [
  {
   "cell_type": "markdown",
   "metadata": {},
   "source": [
    "# Udacity Intro to Parallel Programming\n",
    "\n",
    "Notes for [Udacity Intro to Parallel Programming](https://www.udacity.com/course/intro-to-parallel-programming--cs344) by Nvidia.\n",
    "\n",
    "Today CPU are getting faster not because we over clock their transistors, but because we build smaller transistors and have more available for computation.\n",
    "\n",
    "CPU: central processing unit\n",
    "GPU: graphics processing unit\n",
    "\n",
    "Problems are: heat and power. To solve these it's better to add more but simplier processors. That's the philosophy of the GPU.\n",
    "\n",
    "Latency: is the amount of time to complete a task (hours).\n",
    "\n",
    "Throughput: is the number of stuff completed by unit of time (stuff/hour).\n",
    "\n",
    "GPU augment throughput. But you need to develop how it computes in parallel.\n",
    "\n",
    "GPU is really good at __launching lots of threads__ and running all those __threads in parallel__."
   ]
  }
 ],
 "metadata": {
  "kernelspec": {
   "display_name": "Python [Root]",
   "language": "python",
   "name": "Python [Root]"
  },
  "language_info": {
   "codemirror_mode": {
    "name": "ipython",
    "version": 2
   },
   "file_extension": ".py",
   "mimetype": "text/x-python",
   "name": "python",
   "nbconvert_exporter": "python",
   "pygments_lexer": "ipython2",
   "version": "2.7.12"
  }
 },
 "nbformat": 4,
 "nbformat_minor": 0
}

{
 "cells": [
  {
   "cell_type": "markdown",
   "metadata": {},
   "source": [
    "# Udacity: Intro to Statistics\n",
    "\n",
    "Here there are some notes and code about statistics. It's just some stuff in order to refresh my memory and practice a little bit of mathematics."
   ]
  },
  {
   "cell_type": "code",
   "execution_count": 2,
   "metadata": {
    "collapsed": false
   },
   "outputs": [],
   "source": [
    "import numpy as np\n",
    "import matplotlib.pyplot as plt\n",
    "%matplotlib inline"
   ]
  },
  {
   "cell_type": "markdown",
   "metadata": {},
   "source": [
    "## Probability\n",
    "\n",
    "The basic formula of probability:\n",
    "\n",
    "$ P(A) = 1 - P(\\neg A) $\n",
    "\n",
    "### Conditional probability\n",
    "\n",
    "Like for a disease we would like to detect, if our test is not 100% accurate:\n",
    "\n",
    "$ P(Test) = P(Test | Disease) * P(Disease) + P(Test | \\neg Disease) * P(\\neg Disease) $"
   ]
  },
  {
   "cell_type": "markdown",
   "metadata": {},
   "source": [
    "## Bayes Rules\n",
    "\n",
    "$ P(A|B) = \\frac {P(B|A)P(A)} {P(B)} $"
   ]
  },
  {
   "cell_type": "code",
   "execution_count": 3,
   "metadata": {
    "collapsed": false
   },
   "outputs": [
    {
     "name": "stdout",
     "output_type": "stream",
     "text": [
      "0.615384615385\n",
      "0.384615384615\n"
     ]
    }
   ],
   "source": [
    "pr = 0.5\n",
    "pg = 0.5\n",
    "p_seeR_atR = 0.8\n",
    "p_seeG_atR = 0.2\n",
    "p_seeG_atG = 0.5\n",
    "p_seeR_atG = 0.5\n",
    "normalize = pr * p_seeR_atR + pg * p_seeR_atG\n",
    "print str((pr * p_seeR_atR) / normalize)\n",
    "print str((pg * p_seeR_atG) / normalize)"
   ]
  },
  {
   "cell_type": "code",
   "execution_count": 4,
   "metadata": {
    "collapsed": false
   },
   "outputs": [
    {
     "name": "stdout",
     "output_type": "stream",
     "text": [
      "0.819672131148\n",
      "0.0901639344262\n"
     ]
    }
   ],
   "source": [
    "print str(0.3 / 0.366)\n",
    "print str(0.033 / 0.366)"
   ]
  },
  {
   "cell_type": "code",
   "execution_count": 5,
   "metadata": {
    "collapsed": false
   },
   "outputs": [
    {
     "name": "stdout",
     "output_type": "stream",
     "text": [
      "0.184\n",
      "0.0217391304348\n"
     ]
    }
   ],
   "source": [
    "gone = 0.6\n",
    "home = 0.4\n",
    "rain_home = 0.01\n",
    "norain_home = 0.99\n",
    "rain_gone = 0.3\n",
    "norain_gone = 0.7\n",
    "norm = 0.4 * 0.01 + 0.6 * 0.3\n",
    "print (norm)\n",
    "print str((0.4 * 0.01) / norm)"
   ]
  },
  {
   "cell_type": "markdown",
   "metadata": {},
   "source": [
    "#### Programming Bayes Rules"
   ]
  },
  {
   "cell_type": "code",
   "execution_count": 6,
   "metadata": {
    "collapsed": false
   },
   "outputs": [
    {
     "name": "stdout",
     "output_type": "stream",
     "text": [
      "0.375\n"
     ]
    }
   ],
   "source": [
    "def f(p):\n",
    "    return 3 * p * (1 - p) * (1 - p)\n",
    "print str(f(0.5))"
   ]
  },
  {
   "cell_type": "markdown",
   "metadata": {
    "collapsed": true
   },
   "source": [
    "## Programming estimators\n",
    "\n",
    "MLE vs. Laplace ???\n",
    "\n",
    "#### Mean"
   ]
  },
  {
   "cell_type": "code",
   "execution_count": 7,
   "metadata": {
    "collapsed": false
   },
   "outputs": [
    {
     "name": "stdout",
     "output_type": "stream",
     "text": [
      "54.4\n"
     ]
    }
   ],
   "source": [
    "data1=[49., 66, 24, 98, 37, 64, 98, 27, 56, 93, 68, 78, 22, 25, 11]\n",
    "\n",
    "def mean(data):\n",
    "    return sum(data) / len(data)\n",
    "\n",
    "print mean(data1)"
   ]
  },
  {
   "cell_type": "markdown",
   "metadata": {},
   "source": [
    "#### Median"
   ]
  },
  {
   "cell_type": "code",
   "execution_count": 8,
   "metadata": {
    "collapsed": false
   },
   "outputs": [
    {
     "name": "stdout",
     "output_type": "stream",
     "text": [
      "2\n"
     ]
    }
   ],
   "source": [
    "# If ODD numbers only\n",
    "data1=[1,2,5,10,-20]\n",
    "\n",
    "def median(data):\n",
    "    sdata = sorted(data)\n",
    "    return sdata[(len(data) - 1) / 2]\n",
    "\n",
    "print median(data1)\n",
    "\n",
    "# If EVEN: we can either take the number OR the mean between median numbers"
   ]
  },
  {
   "cell_type": "markdown",
   "metadata": {},
   "source": [
    "#### Mode"
   ]
  },
  {
   "cell_type": "code",
   "execution_count": 9,
   "metadata": {
    "collapsed": false
   },
   "outputs": [
    {
     "name": "stdout",
     "output_type": "stream",
     "text": [
      "5\n"
     ]
    }
   ],
   "source": [
    "data1=[1,2,5,10,-20,5,5]\n",
    "\n",
    "def mode(data):\n",
    "    mode = 0\n",
    "    index = 0\n",
    "    for i in range(len(data)):\n",
    "        if data.count(data[i]) > mode:\n",
    "            index = i\n",
    "            mode = data.count(data[i])\n",
    "\n",
    "    return data[index]\n",
    "    \n",
    "print mode(data1)"
   ]
  },
  {
   "cell_type": "markdown",
   "metadata": {},
   "source": [
    "#### Variance\n",
    "\n",
    "$ V(x) = \\sigma^{2} ={\\frac  1n}\\sum _{{i=1}}^{n}(x_{i}-\\mu)^{2} $"
   ]
  },
  {
   "cell_type": "code",
   "execution_count": 17,
   "metadata": {
    "collapsed": false
   },
   "outputs": [
    {
     "name": "stdout",
     "output_type": "stream",
     "text": [
      "62.572884\n"
     ]
    }
   ],
   "source": [
    "data3=[13.04, 1.32, 22.65, 17.44, 29.54, 23.22, 17.65, 10.12, 26.73, 16.43]\n",
    "\n",
    "def variance(data):\n",
    "    mu = mean(data)\n",
    "    return mean([(x - mu) ** 2 for x in data])\n",
    "\n",
    "print variance(data3)"
   ]
  },
  {
   "cell_type": "markdown",
   "metadata": {},
   "source": [
    "#### Standard deviation\n",
    "\n",
    "$ \\sigma = \\sqrt {V(x)} $"
   ]
  },
  {
   "cell_type": "code",
   "execution_count": 30,
   "metadata": {
    "collapsed": false
   },
   "outputs": [
    {
     "name": "stdout",
     "output_type": "stream",
     "text": [
      "7.91030239624\n"
     ]
    }
   ],
   "source": [
    "from math import *\n",
    "def stddev(data):\n",
    "    return sqrt(variance(data))\n",
    "    \n",
    "print stddev(data3)"
   ]
  },
  {
   "cell_type": "markdown",
   "metadata": {
    "collapsed": true
   },
   "source": [
    "#### Standard score\n",
    "\n",
    "$ \\frac {x - \\mu} {\\sigma} $\n",
    "\n",
    "#### Variance correction factor\n",
    "\n",
    "$ \\frac {n} {n - 1} $\n",
    "\n",
    "$ n $: \\# data points in the sample"
   ]
  },
  {
   "cell_type": "markdown",
   "metadata": {
    "collapsed": true
   },
   "source": [
    "## Outliers: ignoring datas\n",
    "\n",
    "Outliers means in french: \"valeurs aberrantes\".\n",
    "\n",
    "#### Quartile\n",
    "\n",
    "To avoid some extreme datas, we split dataset with 4 quartiles separated by 3 values (one in the center - could be the median if odd, one up, one down). So quartile will be $ 4n + 3 $ multiple.\n",
    "\n",
    "#### Percentile\n",
    "\n",
    "It means we are going to remove a certain percent of the dataset, i.e. the upper 20%."
   ]
  },
  {
   "cell_type": "markdown",
   "metadata": {},
   "source": [
    "## Binomial distribution\n",
    "\n",
    "For example:\n",
    "\n",
    "Let's flip 10 coins (n = 10), how much head = 5 (k = 5) do we have?\n",
    "\n",
    "Answer is: $ \\frac {10 * 9 * 8 * 7 * 6} {5 * 4 * 3 * 2 * 1} = 252 $\n",
    "\n",
    "Formula is:\n",
    "$ \\frac {n!} {k! * (n - k)!} $\n",
    "\n",
    "The _binomial distribution_:\n",
    "\n",
    "$ \\frac {n!} {k! * (n - k)!} * p^k * (1 - p)^{n-k} $\n",
    "\n",
    "Where $k < n$, $p$ is the probability of $k$"
   ]
  },
  {
   "cell_type": "code",
   "execution_count": null,
   "metadata": {
    "collapsed": true
   },
   "outputs": [],
   "source": []
  }
 ],
 "metadata": {
  "anaconda-cloud": {},
  "kernelspec": {
   "display_name": "Python [Root]",
   "language": "python",
   "name": "Python [Root]"
  },
  "language_info": {
   "codemirror_mode": {
    "name": "ipython",
    "version": 2
   },
   "file_extension": ".py",
   "mimetype": "text/x-python",
   "name": "python",
   "nbconvert_exporter": "python",
   "pygments_lexer": "ipython2",
   "version": "2.7.12"
  }
 },
 "nbformat": 4,
 "nbformat_minor": 0
}
